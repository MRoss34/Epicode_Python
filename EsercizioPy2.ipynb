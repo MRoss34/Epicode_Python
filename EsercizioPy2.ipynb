{
 "cells": [
  {
   "cell_type": "code",
   "execution_count": 1,
   "id": "226d481b-0f3d-4c81-aa8f-eb11244d20a5",
   "metadata": {},
   "outputs": [
    {
     "name": "stdout",
     "output_type": "stream",
     "text": [
      "E\n",
      "p\n",
      "i\n",
      "c\n",
      "o\n",
      "d\n",
      "e\n"
     ]
    }
   ],
   "source": [
    "\"\"\"Abbiamo la stringa: nome_scuola = \"Epicode\" Stampare ogni carattere della stringa, \n",
    "uno su ogni riga, utilizzando un costrutto while.\n",
    "\"\"\"\n",
    "nome_scuola = \"Epicode\"\n",
    "contatore = 0\n",
    "while contatore <= len(nome_scuola)-1 :\n",
    "    print(nome_scuola[contatore])\n",
    "    contatore += 1\n",
    "\n"
   ]
  },
  {
   "cell_type": "code",
   "execution_count": 7,
   "id": "61c4ba6e-971a-451f-8dfb-5425f1a01795",
   "metadata": {},
   "outputs": [
    {
     "name": "stdout",
     "output_type": "stream",
     "text": [
      "[0, 1, 2, 3, 4, 5, 6, 7, 8, 9, 10, 11, 12, 13, 14, 15, 16, 17, 18, 19, 20]\n"
     ]
    }
   ],
   "source": [
    "\"\"\"\n",
    "Stampare a video tutti i numeri da 0 a 20 utilizzando il costrutto while. Utilizzeremo: \n",
    "• un ciclo while \n",
    "• la funzione print() \n",
    "• una variabile, che dovrà essere inizializzata \n",
    "• una procedura di incremento\n",
    "\"\"\"\n",
    "numero = 0\n",
    "lista_numeri = []\n",
    "while numero <= 20:\n",
    "    lista_numeri.append(numero)\n",
    "    numero += 1\n",
    "print(lista_numeri)"
   ]
  },
  {
   "cell_type": "code",
   "execution_count": 2,
   "id": "6f1e1d36-fd14-4709-b44b-2ba325f29469",
   "metadata": {},
   "outputs": [
    {
     "name": "stdout",
     "output_type": "stream",
     "text": [
      "1\n",
      "2\n",
      "4\n",
      "8\n",
      "16\n",
      "32\n",
      "64\n",
      "128\n",
      "256\n",
      "512\n",
      "1024\n"
     ]
    }
   ],
   "source": [
    "#Calcolare e stampare tutte le prime 10 potenze di 2 (e.g., 2⁰, 2¹, 2², …) utilizzando un ciclo while.\n",
    "numero = 2\n",
    "potenza = 0\n",
    "while potenza <= 10:\n",
    "    print(numero**potenza)\n",
    "    potenza += 1\n",
    "    \n",
    "    "
   ]
  },
  {
   "cell_type": "code",
   "execution_count": 11,
   "id": "94ce2a12-9121-4f7b-8eed-636ffbf42ed7",
   "metadata": {},
   "outputs": [
    {
     "name": "stdin",
     "output_type": "stream",
     "text": [
      "inserisci potenza: 5\n"
     ]
    },
    {
     "name": "stdout",
     "output_type": "stream",
     "text": [
      "1\n",
      "2\n",
      "4\n",
      "8\n",
      "16\n",
      "32\n"
     ]
    }
   ],
   "source": [
    "#\"Calcolare e stampare tutte le prime N potenze di 2 utilizzando un ciclo while, \n",
    "#domandando all'utente di inserire N.\"\n",
    "numero = 2\n",
    "potenza = 0\n",
    "n = int(input(\"inserisci potenza:\"))\n",
    "while potenza <= n:\n",
    "    print(numero**potenza)\n",
    "    potenza += 1\n"
   ]
  },
  {
   "cell_type": "code",
   "execution_count": 1,
   "id": "6a4e48aa-5a9f-40a6-8040-6fb0bd0744f0",
   "metadata": {},
   "outputs": [
    {
     "name": "stdout",
     "output_type": "stream",
     "text": [
      "1\n",
      "2\n",
      "4\n",
      "8\n",
      "16\n",
      "32\n",
      "64\n",
      "128\n",
      "256\n",
      "512\n",
      "1024\n",
      "2048\n",
      "4096\n",
      "8192\n",
      "16384\n"
     ]
    }
   ],
   "source": [
    "#Calcolare e stampare tutte le potenze di 2 minori di 25000.\n",
    "limite = 25000\n",
    "numero = 2\n",
    "potenza = 0\n",
    "while (numero**potenza) < limite:\n",
    "    print(numero**potenza)\n",
    "    potenza += 1"
   ]
  },
  {
   "cell_type": "code",
   "execution_count": 3,
   "id": "f35cf8a5-12d6-4443-97c7-4ded15f4f102",
   "metadata": {},
   "outputs": [
    {
     "name": "stdout",
     "output_type": "stream",
     "text": [
      "Alex - Cybersecurity\n",
      "Bob - Data Analyst\n",
      "Cindy - Backend\n",
      "Dan - Frontend\n",
      "Emma - Data Analyst\n",
      "Faith - Backend\n",
      "Grace - frontend\n",
      "Henry - cybersecurity\n"
     ]
    }
   ],
   "source": [
    "\"\"\"\n",
    "Abbiamo due liste, una di studenti e una di corsi:\n",
    "Aggiungere i dati mancanti alla lista corsi, sapendo che \n",
    "Emma segue Data Analyst \n",
    "Faith segue Backend \n",
    "Grace segue Frontend \n",
    "Henry segue Cybersecurity \n",
    "Aggiungeremo i dati mancanti uno alla volta con il metodo per appendere in coda alle liste, \n",
    "poi verificheremo che sono della stessa lunghezza e se lo sono stamperemo la lista corsi. \n",
    "Se alcuni dati sono già presenti non vanno aggiunti di nuovo.\n",
    "\"\"\"\n",
    "studenti = [\"Alex\", \"Bob\", \"Cindy\", \"Dan\", \"Emma\", \"Faith\", \"Grace\", \"Henry\"]\n",
    "corsi = [\"Cybersecurity\", \"Data Analyst\", \"Backend\", \"Frontend\", \"Data Analyst\", \"Backend\"]\n",
    "\n",
    "corsi.append(\"frontend\")\n",
    "corsi.append(\"cybersecurity\")\n",
    "\n",
    "for stu, cor in zip(studenti, corsi):\n",
    "    print (stu, \"-\", cor)"
   ]
  },
  {
   "cell_type": "code",
   "execution_count": 18,
   "id": "b80de54e-9bb5-498c-9d31-c911bc5a379d",
   "metadata": {},
   "outputs": [
    {
     "name": "stdin",
     "output_type": "stream",
     "text": [
      "inserisci una parola casa\n"
     ]
    },
    {
     "name": "stdout",
     "output_type": "stream",
     "text": [
      "ca..sa\n"
     ]
    }
   ],
   "source": [
    "\"\"\"\n",
    "Scriviamo un programma che chiede in input all'utente una stringa e visualizza i primi 3 caratteri, \n",
    "seguiti da 3 punti di sospensione e quindi gli ultimi 3 caratteri, \n",
    "similmente all'esercizio della lezione scorsa. Stavolta facciamo attenzione a tutti i casi particolari, \n",
    "ovvero implementare soluzioni ad hoc per stringhe di lunghezza inferiore a 6 caratteri.\n",
    "\"\"\"\n",
    "stringa = input(\"inserisci una parola\")\n",
    "\n",
    "if len(stringa) >= 6:\n",
    "    output = stringa[:3] + \"...\" + stringa[-3:]\n",
    "    print(output)\n",
    "else:\n",
    "    output = stringa[:int(len(stringa)/2)] + \"..\" + stringa[int(-(len(stringa)/2)):]\n",
    "    print(output)"
   ]
  },
  {
   "cell_type": "code",
   "execution_count": 10,
   "id": "db4eaf5d-009a-44c0-a212-f67da6a69f83",
   "metadata": {},
   "outputs": [
    {
     "name": "stdin",
     "output_type": "stream",
     "text": [
      "inserisci un numero: 150\n"
     ]
    },
    {
     "name": "stdout",
     "output_type": "stream",
     "text": [
      "[2, 3, 5, 5]\n"
     ]
    }
   ],
   "source": [
    "#Memorizza e stampa tutti i fattori di un numero dato in input.\n",
    "numero = int(input(\"inserisci un numero:\"))\n",
    "divisore = 2\n",
    "lista_fattori = []\n",
    "\n",
    "while numero > 1:\n",
    "    if numero % divisore == 0:\n",
    "        lista_fattori.append(divisore)\n",
    "        numero //= divisore\n",
    "    else:\n",
    "        divisore += 1\n",
    "     \n",
    "print(lista_fattori)"
   ]
  },
  {
   "cell_type": "code",
   "execution_count": 12,
   "id": "315cefd7-d7f4-4bbe-9298-f4ae43b6eaff",
   "metadata": {},
   "outputs": [
    {
     "name": "stdout",
     "output_type": "stream",
     "text": [
      "E\n",
      "p\n",
      "i\n",
      "c\n",
      "o\n",
      "d\n",
      "e\n"
     ]
    }
   ],
   "source": [
    "\"\"\"\n",
    "Abbiamo la stringa: nome_scuola = \"Epicode\" \n",
    "Stampare ogni carattere della stringa, uno su ogni riga, utilizzando un costrutto for.\n",
    "\"\"\"\n",
    "stringa = \"Epicode\"\n",
    "\n",
    "for i in stringa:\n",
    "    print(i)\n"
   ]
  },
  {
   "cell_type": "code",
   "execution_count": 14,
   "id": "f8ccb022-f374-439a-ba8c-5d740f11b9bd",
   "metadata": {},
   "outputs": [
    {
     "name": "stdout",
     "output_type": "stream",
     "text": [
      "2\n",
      "4\n",
      "8\n",
      "16\n",
      "32\n",
      "64\n",
      "128\n",
      "256\n",
      "512\n",
      "1024\n"
     ]
    }
   ],
   "source": [
    "#Calcolare e stampare tutte le prime 10 potenze di 2 utilizzando un ciclo.\n",
    "\n",
    "numero = 2\n",
    "lista_potenze = [1, 2, 3, 4, 5, 6, 7, 8, 9, 10]\n",
    "\n",
    "for x in lista_potenze:\n",
    "    print(2 ** x)"
   ]
  },
  {
   "cell_type": "code",
   "execution_count": 20,
   "id": "4576b9d0-58ef-44db-8bc0-5807f5b38935",
   "metadata": {},
   "outputs": [
    {
     "name": "stdin",
     "output_type": "stream",
     "text": [
      "inserisci un numero: 5\n",
      "inserisci una potenza: 6\n"
     ]
    },
    {
     "name": "stdout",
     "output_type": "stream",
     "text": [
      "[1, 5, 25, 125, 625, 3125]\n"
     ]
    }
   ],
   "source": [
    "\"\"\"\n",
    "Calcolare (ma non stampare) le prime N potenze di K; \n",
    "ognuna di esse andrà memorizzata in coda a una lista. \n",
    "Alla fine, stampare la lista risultante. \n",
    "Proviamo con diversi valori di K, oppure facciamola inserire all'utente.\n",
    "\"\"\"\n",
    "K = int(input(\"inserisci un numero:\"))\n",
    "N = int(input(\"inserisci una potenza:\"))\n",
    "lista_risultati = []\n",
    "\n",
    "for x in range(N):\n",
    "    lista_risultati.append(K ** x)\n",
    "print(lista_risultati)"
   ]
  },
  {
   "cell_type": "code",
   "execution_count": 24,
   "id": "89618a47-06fb-4892-911b-ebece9999584",
   "metadata": {},
   "outputs": [
    {
     "name": "stdout",
     "output_type": "stream",
     "text": [
      "70\n"
     ]
    }
   ],
   "source": [
    "\"\"\"\n",
    "Abbiamo una lista con i guadagni degli ultimi 12 mesi: \n",
    "guadagni = [100, 90, 70, 40, 50, 80, 90, 120, 80, 20, 50, 50] \n",
    "usando un costrutto for, calcolare la media dei guadagni e stamparla a video.\n",
    "\"\"\"\n",
    "guadagni = [100, 90, 70, 40, 50, 80, 90, 120, 80, 20, 50, 50]\n",
    "somma = 0\n",
    "\n",
    "for x in guadagni:\n",
    "    somma += x\n",
    "print(somma // len(guadagni))"
   ]
  },
  {
   "cell_type": "code",
   "execution_count": 28,
   "id": "940a0cb6-ec9d-4d52-bfea-fc722fa83209",
   "metadata": {},
   "outputs": [
    {
     "name": "stdout",
     "output_type": "stream",
     "text": [
      "Albergo 1\n",
      "Sedia 1\n",
      "Borgo 0\n",
      "Petalo 1\n",
      "Eremo 2\n",
      "Belvedere 4\n",
      "Semestre 3\n",
      "Esteta 2\n",
      "Sosta 0\n",
      "Orpello 1\n",
      "Abete 2\n",
      "Orologio 0\n",
      "Cesta 1\n",
      "Ermellino 2\n"
     ]
    }
   ],
   "source": [
    "\"\"\"\n",
    "Abbiamo una lista di parole: \n",
    "stampiamo, per ogni parola, quante volte appare la lettera \"e\"; \n",
    "facciamo attenzione al fatto che appare sia maiuscola che minuscola.\n",
    "\"\"\"\n",
    "parole = [\"Albergo\", \"Sedia\", \"Borgo\", \"Petalo\", \"Eremo\", \"Belvedere\", \"Semestre\", \n",
    "\"Esteta\", \"Sosta\", \"Orpello\", \"Abete\", \"Orologio\", \"Cesta\", \"Ermellino\"] \n",
    "for parola in parole:\n",
    "    print( parola, parola.lower().count(\"e\"))"
   ]
  },
  {
   "cell_type": "code",
   "execution_count": 41,
   "id": "3c356217-e66f-4b70-9dc7-8a3665e91a7d",
   "metadata": {},
   "outputs": [
    {
     "name": "stdin",
     "output_type": "stream",
     "text": [
      "inserisci un numero: 25\n"
     ]
    },
    {
     "name": "stdout",
     "output_type": "stream",
     "text": [
      "la media dei numeri maggiori o uguali a 25 è: 40.0\n"
     ]
    }
   ],
   "source": [
    "\"\"\"\n",
    "Scrivere un programma che \n",
    "• in input acquisisce una lista di numeri e un numero K \n",
    "• in output, dovrà restituire la media di tutti i numeri nella lista maggiori o uguali a K \n",
    "• se non ce ne dovesse essere nessuno, dovrà stampare a schermo un messaggio adeguato.\n",
    "\"\"\"\n",
    "lista_numeri = [10, 20, 30, 40, 50]\n",
    "k = int(input(\"inserisci un numero:\"))\n",
    "numeri_maggiori_k = []\n",
    "\n",
    "for numero in lista_numeri:\n",
    "    if numero >= k:\n",
    "        numeri_maggiori_k.append(numero)\n",
    "if len(numeri_maggiori_k) == 0:\n",
    "    print(\"nessun numero della lista è maggiore o uguale a\", k)\n",
    "else:\n",
    "    media = sum(numeri_maggiori_k) / len(numeri_maggiori_k)\n",
    "    print(\"la media dei numeri maggiori o uguali a\", k, \"è:\", media)\n",
    "    "
   ]
  },
  {
   "cell_type": "code",
   "execution_count": 42,
   "id": "96d0dc9d-f175-4060-b14a-3d4a50d24af5",
   "metadata": {},
   "outputs": [
    {
     "name": "stdout",
     "output_type": "stream",
     "text": [
      "*****\n",
      "**\n",
      "***\n",
      "****\n"
     ]
    }
   ],
   "source": [
    "\"\"\"\n",
    "Scrivere un programma che, data una lista di numeri, come output stamperà\n",
    "lo stesso numero di asterischi su righe diverse, \n",
    "ottenendo una semplice visualizzazione grafica \n",
    "Esempio, supponendo di avere il seguente input: \n",
    "numeri = [5, 2, 3, 4] \n",
    "L'output sarà: ***** ** *** ****\n",
    "\"\"\"\n",
    "numeri = [5, 2, 3, 4] \n",
    "\n",
    "for numero in numeri:\n",
    "    print(\"*\" * numero)"
   ]
  },
  {
   "cell_type": "code",
   "execution_count": 43,
   "id": "dae1a328-d0be-4a2e-b968-5640a962ec66",
   "metadata": {},
   "outputs": [
    {
     "name": "stdout",
     "output_type": "stream",
     "text": [
      "['ABCDEF95G01A123B', 'STUVWX95Z04A654E', 'DEFGHI95J06A987G']\n",
      "Nome: DEF Cognome: ABC\n",
      "Nome: VWX Cognome: STU\n",
      "Nome: GHI Cognome: DEF\n"
     ]
    }
   ],
   "source": [
    "\"\"\"\n",
    "Abbiamo una lista di codici fiscali:\n",
    "• trovare i codici fiscali che contengono \"95\", metterli in una lista, e alla fine stamparla; \n",
    "• inoltre, per ognuno di essi, stampare a video i caratteri relativi al nome e cognome.\n",
    "\"\"\"\n",
    "lista_cf = [\"ABCDEF95G01A123B\", \"GHIJKL91M02A321C\", \"MNOPQR89S03A456D\",\n",
    "            \"STUVWX95Z04A654E\", \"XYZABC01D05A789F\", \"DEFGHI95J06A987G\"]\n",
    "lista_con_95 = []\n",
    "\n",
    "for i in lista_cf:\n",
    "    if \"95\" in i:\n",
    "        lista_con_95.append(i)\n",
    "print(lista_con_95)\n",
    "\n",
    "for i in lista_con_95:\n",
    "    nome = i[3:6]\n",
    "    cognome = i[0:3]\n",
    "    print( \"Nome:\", nome, \"Cognome:\", cognome)\n",
    "\n"
   ]
  },
  {
   "cell_type": "code",
   "execution_count": 46,
   "id": "9e4decf6-d833-4a20-a249-7e2438263b90",
   "metadata": {},
   "outputs": [
    {
     "name": "stdout",
     "output_type": "stream",
     "text": [
      "['100 $', '200 $', '500 $', '10 $', '50 $', '70 $']\n"
     ]
    }
   ],
   "source": [
    "\"\"\"\n",
    "Abbiamo una lista di stringhe di prezzi in dollari, che erroneamente sono stati scritti con il simbolo dell'euro:\n",
    "cambiare il simbolo dell'euro (€) in quello del dollaro ($) per ogni stringa nella lista; \n",
    "il risultato sarà memorizzato in un'altra lista.\n",
    "\"\"\"\n",
    "prezzi = [\"100 €\", \"200 €\", \"500 €\", \"10 €\", \"50 €\", \"70 €\"]\n",
    "nuovi_prezzi = []\n",
    "\n",
    "for i in prezzi:\n",
    "    nuovo_prezzo = i.replace(\"€\", \"$\")\n",
    "    nuovi_prezzi.append(nuovo_prezzo)\n",
    "print(nuovi_prezzi)"
   ]
  },
  {
   "cell_type": "code",
   "execution_count": 51,
   "id": "0436e530-6eb3-497a-a250-3356c3532deb",
   "metadata": {},
   "outputs": [
    {
     "name": "stdout",
     "output_type": "stream",
     "text": [
      "squadra pari: [['Bob', 'Dan', 'Faith', 'Henry', 'John']]\n",
      "squadra dispari [['Alex', 'Cindy', 'Emma', 'Grace', 'Isabelle']]\n"
     ]
    }
   ],
   "source": [
    "\"\"\"\n",
    "Abbiamo una lista di studenti:\n",
    "vogliamo dividere gli studenti in due squadre per un campionato di Uno nel seguente modo: \n",
    "selezioneremo i nomi in posizione pari per un squadra, e i nomi in posizione dispari per l'altra. \n",
    "Creiamo due liste per ogni squadra, e alla fine visualizziamole.\n",
    "\"\"\"\n",
    "studenti = [\"Alex\", \"Bob\", \"Cindy\", \"Dan\", \"Emma\", \"Faith\", \"Grace\", \"Henry\", \"Isabelle\", \"John\"]\n",
    "lista_pari = []\n",
    "lista_dispari = []\n",
    "\n",
    "pari = studenti[1::2]\n",
    "lista_pari.append(pari)\n",
    "dispari = studenti[::2]\n",
    "lista_dispari.append(dispari)\n",
    "print(\"squadra pari:\", lista_pari)\n",
    "print(\"squadra dispari\", lista_dispari)"
   ]
  },
  {
   "cell_type": "code",
   "execution_count": 56,
   "id": "e85f2ddc-4634-4e8c-b9cf-71508e11f590",
   "metadata": {},
   "outputs": [
    {
     "name": "stdout",
     "output_type": "stream",
     "text": [
      "mese 0 : 100 € (media prec: 0 - il guadagno è maggiore)\n",
      "mese 1 : 90 € (media prec: 100.0 - il guadagno è minore)\n",
      "mese 2 : 70 € (media prec: 95.0 - il guadagno è minore)\n",
      "mese 3 : 40 € (media prec: 86.66666666666667 - il guadagno è minore)\n",
      "mese 4 : 50 € (media prec: 75.0 - il guadagno è minore)\n",
      "mese 5 : 80 € (media prec: 70.0 - il guadagno è maggiore)\n",
      "mese 6 : 90 € (media prec: 71.66666666666667 - il guadagno è maggiore)\n",
      "mese 7 : 120 € (media prec: 74.28571428571429 - il guadagno è maggiore)\n",
      "mese 8 : 80 € (media prec: 80.0 - il guadagno è maggiore)\n",
      "mese 9 : 20 € (media prec: 80.0 - il guadagno è minore)\n",
      "mese 10 : 50 € (media prec: 74.0 - il guadagno è minore)\n",
      "mese 11 : 50 € (media prec: 71.81818181818181 - il guadagno è minore)\n"
     ]
    }
   ],
   "source": [
    "\"\"\"\n",
    "Abbiamo una lista con i guadagni degli ultimi 12 mesi (supponiamo da Gennaio a Dicembre):\n",
    "dobbiamo confrontare, stampando tutto a video, il guadagno di ogni mese con la media dei guadagni precedenti, \n",
    "e specificare nell'output se il guadagno attuale è maggiore o minore della media dei precedenti.\n",
    "\"\"\"\n",
    "guadagni = [100, 90, 70, 40, 50, 80, 90, 120, 80, 20, 50, 50]\n",
    "\n",
    "for i in range(len(guadagni)):\n",
    "    guadagno_attuale = guadagni[i]\n",
    "    media_guadagni = sum(guadagni[:i]) / i if i != 0 else 0\n",
    "    confronto = \"il guadagno è minore)\" if guadagno_attuale < media_guadagni else \"il guadagno è maggiore)\"\n",
    "    print(\"mese\", i, \":\", guadagno_attuale, \"€\", \"(media prec:\", media_guadagni, \"-\", confronto)"
   ]
  },
  {
   "cell_type": "code",
   "execution_count": null,
   "id": "4c07bdf7-f722-4d74-8f50-b950995ef5c7",
   "metadata": {},
   "outputs": [],
   "source": []
  }
 ],
 "metadata": {
  "kernelspec": {
   "display_name": "Python 3 (ipykernel)",
   "language": "python",
   "name": "python3"
  },
  "language_info": {
   "codemirror_mode": {
    "name": "ipython",
    "version": 3
   },
   "file_extension": ".py",
   "mimetype": "text/x-python",
   "name": "python",
   "nbconvert_exporter": "python",
   "pygments_lexer": "ipython3",
   "version": "3.11.7"
  }
 },
 "nbformat": 4,
 "nbformat_minor": 5
}
