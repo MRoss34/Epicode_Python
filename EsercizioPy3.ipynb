{
 "cells": [
  {
   "cell_type": "code",
   "execution_count": 2,
   "id": "a397e84d-54dc-4a64-a3d4-d6a41873424f",
   "metadata": {},
   "outputs": [],
   "source": [
    "import numpy as np\n",
    "import pandas as pd\n",
    "import math"
   ]
  },
  {
   "cell_type": "code",
   "execution_count": 2,
   "id": "03812f80-4c88-43ee-82c9-792faaf123d1",
   "metadata": {},
   "outputs": [
    {
     "data": {
      "text/plain": [
       "8"
      ]
     },
     "execution_count": 2,
     "metadata": {},
     "output_type": "execute_result"
    }
   ],
   "source": [
    "\"\"\"\n",
    "Abbiamo una lista di liste:\n",
    "Che tipo di struttura dati o matematica potrebbe rappresentare? \n",
    "Notare che tutte le liste \"interne\" sono della stessa dimensione\n",
    "R:rappresenta una matrice formata da 3 righe e 5 colonne.\n",
    "\"\"\"\n",
    "mat = [[0, 1, 2, 3, 4], [5, 6, 7, 8, 9], [10, 11, 12, 13, 14]]\n",
    "\n",
    "#Come facciamo per accedere ad un elemento in particolare?\n",
    "\n",
    "mat_array = np.array(mat)\n",
    "mat_array[1,3]"
   ]
  },
  {
   "cell_type": "code",
   "execution_count": 13,
   "id": "4dd8bd5d-8db3-4a77-958b-386a8ba5014e",
   "metadata": {},
   "outputs": [
    {
     "name": "stdout",
     "output_type": "stream",
     "text": [
      "sin di 90: 1.0\n",
      "cos di 180: -1.0\n",
      "120\n",
      "3.141592653589793\n"
     ]
    }
   ],
   "source": [
    "\"\"\"\n",
    "Importiamo il modulo math e proviamo a usare le funzioni \n",
    ".sin() \n",
    ".cos() \n",
    ".factorial() \n",
    "e la variabile \n",
    ".pi\n",
    "\"\"\"\n",
    "print(\"sin di 90:\", math.sin(math.radians(90)))\n",
    "print(\"cos di 180:\", math.cos(math.radians(180)))\n",
    "print(math.factorial(5))\n",
    "print(math.pi)"
   ]
  },
  {
   "cell_type": "code",
   "execution_count": 14,
   "id": "184c303d-6a0b-42a7-a0cf-248d9ff1cc3b",
   "metadata": {},
   "outputs": [
    {
     "data": {
      "text/plain": [
       "180.0"
      ]
     },
     "execution_count": 14,
     "metadata": {},
     "output_type": "execute_result"
    }
   ],
   "source": [
    "math.degrees(math.pi)"
   ]
  },
  {
   "cell_type": "code",
   "execution_count": 25,
   "id": "7f0371f0-8b46-4fd5-bc6e-56f11aca69d0",
   "metadata": {},
   "outputs": [
    {
     "name": "stdout",
     "output_type": "stream",
     "text": [
      "max is: 8150\n",
      "min is: 1280\n",
      "maggiori di 4999: [5500 7200 6410 8150 7100 5350]\n",
      "numero maggiori di 4999: 6\n",
      "minori di 3000: [2000 1280 1900 2500]\n",
      "la media è: 4634.166666666667\n"
     ]
    }
   ],
   "source": [
    "\"\"\"\n",
    "L'azienda Object SpA ha creato una lista di quanti oggetti ha venduto ogni mese nell'ultimo anno:\n",
    "trasformiamola in un array NumPy (casting): \n",
    "e rispondiamo alle domande del CEO della Object SpA:\n",
    "e rispondiamo alle domande del CEO della Object SpA: \n",
    "• qual è stata la vendita massima mensile? E quella minima? \n",
    "• quali sono le vendite mensili maggiori di 4999 oggetti? E quante ne sono? \n",
    "• quali sono le vendite minori di 3000 oggetti? \n",
    "• in media quanti oggetti sono stati venduti al mese?\n",
    "\"\"\"\n",
    "lst = [2000, 5500, 7200, 4320, 1280, 1900, 2500, 3900, 6410, 8150, 7100, 5350]\n",
    "lst = np.array(lst) \n",
    "filtro_magg = lst[lst > 4999]\n",
    "filtro_min = lst[lst < 3000]\n",
    "\n",
    "print(\"max is:\", lst.max()) \n",
    "\n",
    "print(\"min is:\", lst.min())\n",
    "\n",
    "print(\"maggiori di 4999:\", filtro_magg)\n",
    "\n",
    "print(\"numero maggiori di 4999:\", len(filtro_magg))\n",
    "\n",
    "print(\"minori di 3000:\", filtro_min)\n",
    "\n",
    "print(\"la media è:\", lst.mean())"
   ]
  },
  {
   "cell_type": "code",
   "execution_count": 34,
   "id": "20515315-f373-4d69-b650-acd8077d6f66",
   "metadata": {},
   "outputs": [
    {
     "name": "stdout",
     "output_type": "stream",
     "text": [
      "lista stipendi raddoppiati con for [200, 400, 600, 800, 1000, 1200, 1400, 1600, 1800, 2000]\n",
      "lista stipendi raddoppiati con masking [ 200  400  600  800 1000 1200 1400 1600 1800 2000]\n"
     ]
    }
   ],
   "source": [
    "\"\"\"\n",
    "L'azienda Object SpA ha un dataset con tutti gli stipendi dei dipendenti, memorizzato in un ndarray:\n",
    "L'azienda ci chiede di raddoppiare tutti gli stipendi; facciamolo in due modi: \n",
    "• con un ciclo for \n",
    "• con il masking\n",
    "\"\"\"\n",
    "stipendi = np.array( [100, 200, 300, 400, 500,  600, 700, 800, 900, 1000] )\n",
    "stipendi_raddoppiati = []\n",
    "\n",
    "for stipendio in stipendi:\n",
    "    stipendi_raddoppiati.append(stipendio * 2)\n",
    "print(\"lista stipendi raddoppiati con for\", stipendi_raddoppiati)\n",
    "\n",
    "print(\"lista stipendi raddoppiati con masking\", np.array(stipendi * 2))\n",
    "    "
   ]
  },
  {
   "cell_type": "code",
   "execution_count": null,
   "id": "79569cec-26ee-43e6-a892-52ee084332c9",
   "metadata": {},
   "outputs": [],
   "source": []
  }
 ],
 "metadata": {
  "kernelspec": {
   "display_name": "Python 3 (ipykernel)",
   "language": "python",
   "name": "python3"
  },
  "language_info": {
   "codemirror_mode": {
    "name": "ipython",
    "version": 3
   },
   "file_extension": ".py",
   "mimetype": "text/x-python",
   "name": "python",
   "nbconvert_exporter": "python",
   "pygments_lexer": "ipython3",
   "version": "3.11.7"
  }
 },
 "nbformat": 4,
 "nbformat_minor": 5
}
