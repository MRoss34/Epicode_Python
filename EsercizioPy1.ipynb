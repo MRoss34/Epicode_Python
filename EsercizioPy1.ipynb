{
 "cells": [
  {
   "cell_type": "code",
   "execution_count": 16,
   "id": "f3384c2a-f216-44c6-90e5-1f1e9f678b79",
   "metadata": {},
   "outputs": [],
   "source": [
    "#Abbiamo 25 studenti; memorizzare questo dato in una variabile.\n",
    "students = 25"
   ]
  },
  {
   "cell_type": "code",
   "execution_count": 17,
   "id": "b90fdf5e-52e1-44e7-a7d3-122fb079da16",
   "metadata": {},
   "outputs": [
    {
     "data": {
      "text/plain": [
       "25"
      ]
     },
     "execution_count": 17,
     "metadata": {},
     "output_type": "execute_result"
    }
   ],
   "source": [
    "#Abbiamo 25 studenti; memorizzare questo dato in una variabile e stamparla a video.\n",
    "students"
   ]
  },
  {
   "cell_type": "code",
   "execution_count": 18,
   "id": "c63a2237-af29-4c1a-b00b-653f0a5c59da",
   "metadata": {},
   "outputs": [],
   "source": [
    "#Arrivano altri 3 studenti; memorizzare questo dato in un'altra variabile.\n",
    "new_students = 3"
   ]
  },
  {
   "cell_type": "code",
   "execution_count": 19,
   "id": "b610ef96-320d-49aa-b910-f7afefe92889",
   "metadata": {},
   "outputs": [
    {
     "data": {
      "text/plain": [
       "28"
      ]
     },
     "execution_count": 19,
     "metadata": {},
     "output_type": "execute_result"
    }
   ],
   "source": [
    "#Creare un'altra variabile ancora che conterrà la somma delle prime due, poi stamparla a video.\n",
    "tot_students = students + new_students\n",
    "tot_students"
   ]
  },
  {
   "cell_type": "code",
   "execution_count": 20,
   "id": "8a6c9b27-a1f9-4b0d-8a64-7eb892df8021",
   "metadata": {},
   "outputs": [
    {
     "name": "stdout",
     "output_type": "stream",
     "text": [
      "Epicode\n"
     ]
    }
   ],
   "source": [
    "#Creare una variabile che contiene la stringa \"Epicode\", quindi stamparla a video.\n",
    "nome_scuola = \"Epicode\"\n",
    "print(nome_scuola)"
   ]
  },
  {
   "cell_type": "code",
   "execution_count": 21,
   "id": "0b3ff4cd-54b2-45f3-93a4-e44311a698fa",
   "metadata": {},
   "outputs": [
    {
     "data": {
      "text/plain": [
       "36"
      ]
     },
     "execution_count": 21,
     "metadata": {},
     "output_type": "execute_result"
    }
   ],
   "source": [
    "\"\"\"\n",
    "Abbiamo la variabile: x = 10\n",
    "Incrementarla di 2 e poi moltiplicarla per 3\n",
    "Usare due metodi diversi (ad esempio, uno utilizzando gli operatori di assegnazione, e uno senza)\n",
    "\"\"\"\n",
    "x = 10\n",
    "y = (x + 2) * 3\n",
    "y"
   ]
  },
  {
   "cell_type": "code",
   "execution_count": 22,
   "id": "26b53aa3-89c6-40fe-8fa8-c3fec43b928c",
   "metadata": {},
   "outputs": [
    {
     "data": {
      "text/plain": [
       "36"
      ]
     },
     "execution_count": 22,
     "metadata": {},
     "output_type": "execute_result"
    }
   ],
   "source": [
    "(x + 2) * 3"
   ]
  },
  {
   "cell_type": "code",
   "execution_count": 23,
   "id": "3b9caf1b-71ac-4f00-ba2f-5350c4f1390b",
   "metadata": {},
   "outputs": [
    {
     "name": "stdout",
     "output_type": "stream",
     "text": [
      "Windows è compreso\n",
      "Excel è compreso\n",
      "Powerpoint non è compreso\n",
      "Word non è compreso\n"
     ]
    }
   ],
   "source": [
    "#Verificare, per ognuna delle seguenti stringhe, se il numero di caratteri è compreso tra 5 e 8:\n",
    "stringhe = (\"Windows\", \"Excel\", \"Powerpoint\", \"Word\")\n",
    "for str in stringhe:\n",
    "    if 5 <= len(str) <= 8:\n",
    "        print( str + \" è compreso\")\n",
    "    else:\n",
    "        print( str + \" non è compreso\")"
   ]
  },
  {
   "cell_type": "code",
   "execution_count": 25,
   "id": "77092cc6-e037-47ad-a4ec-d26b8d56021f",
   "metadata": {},
   "outputs": [
    {
     "name": "stdout",
     "output_type": "stream",
     "text": [
      "I secondi in un anno non bisestile sono:  31536000\n"
     ]
    }
   ],
   "source": [
    "#Calcolare e stampare a video quanti secondi ci sono in un anno non bisestile.\n",
    "seconds = 60 * 60 * 24 * 365\n",
    "print(\"I secondi in un anno non bisestile sono: \", seconds)"
   ]
  },
  {
   "cell_type": "code",
   "execution_count": 3,
   "id": "2ba6f814-b5f3-43c8-9574-cc15c28000a3",
   "metadata": {},
   "outputs": [
    {
     "data": {
      "text/plain": [
       "'I AM STUDYING PYTHON'"
      ]
     },
     "execution_count": 3,
     "metadata": {},
     "output_type": "execute_result"
    }
   ],
   "source": [
    "\"\"\"\n",
    "Abbiamo la seguente stringa: my_string = \"I am studying Python\" \n",
    "• Trasformarla in modo che tutti i caratteri siano maiuscoli (uppercase) \n",
    "• Trasformarla in modo che tutti i caratteri siano minuscoli (lowercase) \n",
    "• Sostituire la sottostringa \"Python\" con la stringa \"a lot\" \n",
    "• Usare il metodo .strip(); cambia qualcosa? Perché?\n",
    "\"\"\"\n",
    "my_string = \"I am studying Python\"\n",
    "my_string.upper()"
   ]
  },
  {
   "cell_type": "code",
   "execution_count": 4,
   "id": "7d9a8397-5360-40da-aab6-ac93b2e6cf16",
   "metadata": {},
   "outputs": [
    {
     "data": {
      "text/plain": [
       "'i am studying python'"
      ]
     },
     "execution_count": 4,
     "metadata": {},
     "output_type": "execute_result"
    }
   ],
   "source": [
    "my_string.lower()"
   ]
  },
  {
   "cell_type": "code",
   "execution_count": 6,
   "id": "f36411a9-f187-47cb-ad9d-6cf7f5a256be",
   "metadata": {},
   "outputs": [
    {
     "data": {
      "text/plain": [
       "'I am studying a lot'"
      ]
     },
     "execution_count": 6,
     "metadata": {},
     "output_type": "execute_result"
    }
   ],
   "source": [
    "my_string.replace(\"Python\", \"a lot\")"
   ]
  },
  {
   "cell_type": "code",
   "execution_count": 7,
   "id": "d691b38b-ff85-4477-aecf-e3ed0ae76dc0",
   "metadata": {},
   "outputs": [
    {
     "data": {
      "text/plain": [
       "'I am studying Python'"
      ]
     },
     "execution_count": 7,
     "metadata": {},
     "output_type": "execute_result"
    }
   ],
   "source": [
    "my_string.strip()"
   ]
  },
  {
   "cell_type": "code",
   "execution_count": null,
   "id": "b95c7501-4b0b-4835-b6a4-f798273412e6",
   "metadata": {},
   "outputs": [],
   "source": []
  }
 ],
 "metadata": {
  "kernelspec": {
   "display_name": "Python 3 (ipykernel)",
   "language": "python",
   "name": "python3"
  },
  "language_info": {
   "codemirror_mode": {
    "name": "ipython",
    "version": 3
   },
   "file_extension": ".py",
   "mimetype": "text/x-python",
   "name": "python",
   "nbconvert_exporter": "python",
   "pygments_lexer": "ipython3",
   "version": "3.11.7"
  }
 },
 "nbformat": 4,
 "nbformat_minor": 5
}
